{
  "nbformat": 4,
  "nbformat_minor": 0,
  "metadata": {
    "colab": {
      "name": "01_Webscraping.ipynb",
      "provenance": [],
      "collapsed_sections": [
        "yVNWfJP6AR7O"
      ],
      "include_colab_link": true
    },
    "kernelspec": {
      "name": "python3",
      "display_name": "Python 3"
    },
    "language_info": {
      "name": "python"
    }
  },
  "cells": [
    {
      "cell_type": "markdown",
      "metadata": {
        "id": "view-in-github",
        "colab_type": "text"
      },
      "source": [
        "<a href=\"https://colab.research.google.com/github/jonkstro/Webscraping_Olx/blob/main/01_Webscraping.ipynb\" target=\"_parent\"><img src=\"https://colab.research.google.com/assets/colab-badge.svg\" alt=\"Open In Colab\"/></a>"
      ]
    },
    {
      "cell_type": "markdown",
      "source": [
        "#Workshop de Previsões de valores de venda de automóveis com Webscraping e Machine Learning\n",
        "\n",
        "Git: https://github.com/gabriellimagomes15/previsao_valor_automoveis"
      ],
      "metadata": {
        "id": "KLtTiY_tppZX"
      }
    },
    {
      "cell_type": "markdown",
      "source": [
        "##IMPORTAR AS BIBLIOTECAS"
      ],
      "metadata": {
        "id": "GHTbQTJ9AZm4"
      }
    },
    {
      "cell_type": "code",
      "source": [
        "cd /content/drive/MyDrive/Colab Notebooks/Workshop_Info_Dados/dados_olx\n"
      ],
      "metadata": {
        "colab": {
          "base_uri": "https://localhost:8080/"
        },
        "id": "Qr1meDtD0Lh6",
        "outputId": "a9b5eb20-05d9-4697-acfb-37727c8a7606"
      },
      "execution_count": 2,
      "outputs": [
        {
          "output_type": "stream",
          "name": "stdout",
          "text": [
            "[Errno 2] No such file or directory: '/content/drive/MyDrive/Colab Notebooks/Workshop_Info_Dados/dados_olx'\n",
            "/content\n"
          ]
        }
      ]
    },
    {
      "cell_type": "code",
      "source": [
        "# importar os pacotes do webscraping\n",
        "\n",
        "from bs4 import BeautifulSoup\n",
        "import requests\n",
        "import time\n",
        "import random\n",
        "import pandas as pd\n",
        "from datetime import datetime"
      ],
      "metadata": {
        "id": "Wt1vbc-frmeu"
      },
      "execution_count": 3,
      "outputs": []
    },
    {
      "cell_type": "markdown",
      "source": [
        "##CAPTURANDO A PÁGINA"
      ],
      "metadata": {
        "id": "zDwQZ2bws1lz"
      }
    },
    {
      "cell_type": "code",
      "source": [
        "# definindo a página que será extraída\n",
        "url_inicial = 'https://www.olx.com.br/autos-e-pecas/carros-vans-e-utilitarios?o=1'\n",
        "\n",
        "# acessando a pagina\n",
        "pagina_inicial = requests.get(url_inicial)\n",
        "print(pagina_inicial) # imprime a resposta http da página (200 = OK; 400 = Erro)"
      ],
      "metadata": {
        "colab": {
          "base_uri": "https://localhost:8080/"
        },
        "id": "rdq7lFwLtACA",
        "outputId": "b1ba357e-897c-4c3b-b591-ec75a8978d7e"
      },
      "execution_count": 4,
      "outputs": [
        {
          "output_type": "stream",
          "name": "stdout",
          "text": [
            "<Response [403]>\n"
          ]
        }
      ]
    },
    {
      "cell_type": "code",
      "source": [
        "# definindo a página que será extraída:\n",
        "url_inicial = 'https://www.olx.com.br/autos-e-pecas/carros-vans-e-utilitarios?o=1'\n",
        "\n",
        "# criando USER-AGENTE para realizar autenticação no site\n",
        "# sem isso o olx vai bloquear o robô\n",
        "headers = {\n",
        "    'User-Agent': \"Mozilla/5.0 (Windows NT 6.2; WOW64) AppleWebKit/537.36 (KHTML, like Gecko) Chrome/27.0.1453.93 Safari/537.36\",\n",
        "}\n",
        "\n",
        "# acessando a página\n",
        "pagina_inicial = requests.get(url_inicial, headers = headers)\n",
        "print(pagina_inicial) # é pra imprimir Cod 200 (http:200 = ok)"
      ],
      "metadata": {
        "colab": {
          "base_uri": "https://localhost:8080/"
        },
        "id": "GrLFtTBPvKqY",
        "outputId": "c701142b-00e5-4c34-8469-d19c7649c8f0"
      },
      "execution_count": 5,
      "outputs": [
        {
          "output_type": "stream",
          "name": "stdout",
          "text": [
            "<Response [200]>\n"
          ]
        }
      ]
    },
    {
      "cell_type": "code",
      "source": [
        "# converter a página em bytes para um objeto do beautifulsoup (que irá ter todas as funções pra fazer o scrap)\n",
        "pagina_inicial = BeautifulSoup(pagina_inicial.content, 'html.parser')\n",
        "print(type(pagina_inicial))"
      ],
      "metadata": {
        "colab": {
          "base_uri": "https://localhost:8080/"
        },
        "id": "WD8oa1NvwjB2",
        "outputId": "9c8bbd71-7c99-445b-8df4-f17cc3aa8143"
      },
      "execution_count": 6,
      "outputs": [
        {
          "output_type": "stream",
          "name": "stdout",
          "text": [
            "<class 'bs4.BeautifulSoup'>\n"
          ]
        }
      ]
    },
    {
      "cell_type": "code",
      "source": [
        "# imprimir a página toda bonitinha pelo beutifulsoup\n",
        "#print(pagina_inicial.prettify())"
      ],
      "metadata": {
        "id": "O7tmMel3xPEo"
      },
      "execution_count": 7,
      "outputs": []
    },
    {
      "cell_type": "markdown",
      "source": [
        "##ACESSANDO E EXTRAINDO ELEMENTOS DA PÁGINA\n",
        "\n",
        "\n",
        "---\n",
        "\n"
      ],
      "metadata": {
        "id": "QoqByxuYxg7r"
      }
    },
    {
      "cell_type": "markdown",
      "source": [
        "\n",
        "### Acessando Elementos da Página\n",
        "* a função **find_all** acessa todos os elementos encontrados com o valor informado, seja, class, tag name ou algum outro seletor.\n",
        "* o retorno dela será uma lista\n",
        "  * **negrito** deve ter atenção se outros elementos na páginas que não queremos, possuem a mesma identificação, no caso de class\n",
        "  * no caso da página da OLX, cada página terá 50 metadados dos anúncios. Mas como já citado, existem anúncios que utilizam outras classes.\n"
      ],
      "metadata": {
        "id": "kBPa8YJw0Ty8"
      }
    },
    {
      "cell_type": "code",
      "source": [
        "#div = class=\"sc-1fcmfeb-0 FBZzf\"\n",
        "\n",
        "# extraindo vários anuncios\n",
        "anuncios = pagina_inicial.find_all(class_=\"sc-1fcmfeb-0 FBZzf\")\n",
        "anuncios[:5] # imprimir os 5 primeiros itens da lista"
      ],
      "metadata": {
        "colab": {
          "base_uri": "https://localhost:8080/"
        },
        "id": "zY7AyA6OzssK",
        "outputId": "ce973980-a860-4248-8f30-e163dad629af"
      },
      "execution_count": 9,
      "outputs": [
        {
          "output_type": "execute_result",
          "data": {
            "text/plain": [
              "[]"
            ]
          },
          "metadata": {},
          "execution_count": 9
        }
      ]
    },
    {
      "cell_type": "code",
      "source": [
        "# convertendo os 5 primeiros anúncios para texto\n",
        "[i.get_text() for i in anuncios] [:5]"
      ],
      "metadata": {
        "colab": {
          "base_uri": "https://localhost:8080/"
        },
        "id": "vxYRiw6x1op6",
        "outputId": "5ce520c8-9f94-4841-bb94-5638fa1a30c4"
      },
      "execution_count": 10,
      "outputs": [
        {
          "output_type": "execute_result",
          "data": {
            "text/plain": [
              "[]"
            ]
          },
          "metadata": {},
          "execution_count": 10
        }
      ]
    },
    {
      "cell_type": "code",
      "source": [
        "# extraindo os 5 primeiros títulos dos anúncios\n",
        "titulos = pagina_inicial.find_all(class_=\"kgl1mq-0 iYdPim sc-bdVaJa daxpJj\")\n",
        "titulos[:5]"
      ],
      "metadata": {
        "colab": {
          "base_uri": "https://localhost:8080/"
        },
        "id": "SkqRdTmb4WgK",
        "outputId": "f2eca432-8489-47a8-f152-55ac812722bf"
      },
      "execution_count": 11,
      "outputs": [
        {
          "output_type": "execute_result",
          "data": {
            "text/plain": [
              "[]"
            ]
          },
          "metadata": {},
          "execution_count": 11
        }
      ]
    },
    {
      "cell_type": "code",
      "source": [
        "# extraindo textos dos titulos dos anuncios\n",
        "titulos = [i.get_text() for i in titulos]\n",
        "titulos [:5]"
      ],
      "metadata": {
        "colab": {
          "base_uri": "https://localhost:8080/"
        },
        "id": "fzmyOR6f5aks",
        "outputId": "0087c450-ecce-4fc2-8da5-252894764cb8"
      },
      "execution_count": 12,
      "outputs": [
        {
          "output_type": "execute_result",
          "data": {
            "text/plain": [
              "[]"
            ]
          },
          "metadata": {},
          "execution_count": 12
        }
      ]
    },
    {
      "cell_type": "markdown",
      "source": [
        "### Extração completa dos anúncios\n",
        "* Agora será feita a extração de todos os dados que se deseja."
      ],
      "metadata": {
        "id": "DIqJXSA66TRi"
      }
    },
    {
      "cell_type": "code",
      "source": [
        "# extraindo id dos anuncios:\n",
        "id = pagina_inicial.find_all(class_=\"sc-12rk7z2-1\")\n",
        "ids = [i.get_attribute_list(\"data-lurker_list_id\")[0] for i in id]\n",
        "\n",
        "# extraindo link dos anuncios:\n",
        "tags_links = pagina_inicial.find_all(name = \"a\", class_ = \"sc-12rk7z2-1\")\n",
        "links = [i.get_attribute_list(\"href\")[0] for i in tags_links]\n",
        "\n",
        "# extraindo titulo dos anuncios:\n",
        "titulo = pagina_inicial.find_all(class_=\"kgl1mq-0\")\n",
        "titulo = [i.get_text() for i in titulo]\n",
        "\n",
        "# extraindo infos dos anuncios:\n",
        "infos = pagina_inicial.find_all(class_=\"sc-1ftm7qz-2\")\n",
        "infos = [i.get_text() for i in infos]\n",
        "\n",
        "# extraindo valor dos anuncios:\n",
        "valor = pagina_inicial.find_all(class_=\"m7nrfa-0\")\n",
        "valor = [i.get_text() for i in valor]\n",
        "\n",
        "# extraindo local dos anuncios:\n",
        "local = pagina_inicial.find_all(class_=\"sc-1c3ysll-1\")\n",
        "local = [i.get_text() for i in local]\n",
        "\n",
        "# extraindo data dos anuncios:\n",
        "data = pagina_inicial.find_all(class_=\"sc-11h4wdr-0\")\n",
        "data = [i.get_text() for i in data]\n"
      ],
      "metadata": {
        "id": "s4QWgRLE7l3M"
      },
      "execution_count": null,
      "outputs": []
    },
    {
      "cell_type": "code",
      "source": [
        "# verificar a quantidade de itens por variável [maximo por pagina]\n",
        "len(ids), len(links), len(titulo), len(infos), len(valor), len(local), len(data)"
      ],
      "metadata": {
        "colab": {
          "base_uri": "https://localhost:8080/"
        },
        "id": "jJ-Y5sBY-u2P",
        "outputId": "0b95896e-c43b-45cb-ab1a-e3b43337a0a1"
      },
      "execution_count": null,
      "outputs": [
        {
          "output_type": "execute_result",
          "data": {
            "text/plain": [
              "(50, 50, 50, 50, 50, 50, 50)"
            ]
          },
          "metadata": {},
          "execution_count": 61
        }
      ]
    },
    {
      "cell_type": "code",
      "source": [
        "# vizualizando anuncios completo nas variáveis\n",
        "i = 49\n",
        "ids[i], links[i], titulo[i], infos[i], valor[i], local[i], data[i]"
      ],
      "metadata": {
        "colab": {
          "base_uri": "https://localhost:8080/"
        },
        "id": "Arm91_fZ_bNx",
        "outputId": "03b893a9-b392-4db8-ac0e-8cfeafce8c02"
      },
      "execution_count": null,
      "outputs": [
        {
          "output_type": "execute_result",
          "data": {
            "text/plain": [
              "('986278408',\n",
              " 'https://rj.olx.com.br/serra-angra-dos-reis-e-regiao/autos-e-pecas/carros-vans-e-utilitarios/saveiro-tl-mbvs-2018-1-6-gnv-986278408',\n",
              " ' SAVEIRO TL MBVS 2018 1.6 GNV',\n",
              " '52.600 km\\xa0\\xa0|\\xa0\\xa0Câmbio: Manual\\xa0\\xa0|\\xa0\\xa0Gás Natural\\xa0\\xa0|\\xa0\\xa0',\n",
              " 'R$ 66.900',\n",
              " 'Barra Mansa -  RJ',\n",
              " 'Hoje, 09:16')"
            ]
          },
          "metadata": {},
          "execution_count": 62
        }
      ]
    },
    {
      "cell_type": "markdown",
      "source": [
        "##ESTRUTURANDO DADOS EM UM DATAFRAME\n"
      ],
      "metadata": {
        "id": "yVNWfJP6AR7O"
      }
    },
    {
      "cell_type": "code",
      "source": [
        "# criar dataframe pra armazenar os dados\n",
        "df = pd.DataFrame( list(zip(ids, titulo, infos, valor, local, data, links)),\n",
        "                  columns = ['ID', 'TITULO', 'INFOS', 'VALOR', 'LOCAL', 'DATA_ANUNCIO', 'LINK'] )\n",
        "df.head()"
      ],
      "metadata": {
        "colab": {
          "base_uri": "https://localhost:8080/"
        },
        "id": "uMQ2sQY9uMhy",
        "outputId": "90d754ba-a40f-462e-ae13-d51654ec0952"
      },
      "execution_count": null,
      "outputs": [
        {
          "output_type": "execute_result",
          "data": {
            "text/plain": [
              "           ID                              TITULO  \\\n",
              "0  1041364469              Palio Fire 2014/2015 |   \n",
              "1  1041364453    Honda Civic 2010 Lxs Automático    \n",
              "2  1041364444  Toyota Hilux 4x4 SW4 Gasolina 1997   \n",
              "3   979399212          Vendo kombi corujinha 1973   \n",
              "4  1041364397                               Carro   \n",
              "\n",
              "                                             INFOS      VALOR  \\\n",
              "0                                   75.000 km  |    R$ 25.000   \n",
              "1  109.000 km  |  Câmbio: Automático  |  Flex  |    R$ 44.500   \n",
              "2  200.000 km  |  Câmbio: Manual  |  Gasolina  |    R$ 42.000   \n",
              "3        1 km  |  Câmbio: Manual  |  Gasolina  |    R$ 17.500   \n",
              "4       97.000 km  |  Câmbio: Manual  |  Flex  |    R$ 48.000   \n",
              "\n",
              "                             LOCAL DATA_ANUNCIO  \\\n",
              "0           Feira de Santana -  BA  Hoje, 09:17   \n",
              "1      São José do Rio Preto -  SP  Hoje, 09:17   \n",
              "2  São Sebastião da Amoreira -  PR  Hoje, 09:17   \n",
              "3               Campo Grande -  MS  Hoje, 09:17   \n",
              "4                  Campo Bom -  RS  Hoje, 09:17   \n",
              "\n",
              "                                                LINK  \n",
              "0  https://ba.olx.com.br/regiao-de-feira-de-santa...  \n",
              "1  https://sp.olx.com.br/regiao-de-sao-jose-do-ri...  \n",
              "2  https://pr.olx.com.br/regiao-de-londrina/autos...  \n",
              "3  https://ms.olx.com.br/mato-grosso-do-sul/autos...  \n",
              "4  https://rs.olx.com.br/regioes-de-porto-alegre-...  "
            ],
            "text/html": [
              "\n",
              "  <div id=\"df-7b5af334-7975-4fd0-984c-28d9e2398580\">\n",
              "    <div class=\"colab-df-container\">\n",
              "      <div>\n",
              "<style scoped>\n",
              "    .dataframe tbody tr th:only-of-type {\n",
              "        vertical-align: middle;\n",
              "    }\n",
              "\n",
              "    .dataframe tbody tr th {\n",
              "        vertical-align: top;\n",
              "    }\n",
              "\n",
              "    .dataframe thead th {\n",
              "        text-align: right;\n",
              "    }\n",
              "</style>\n",
              "<table border=\"1\" class=\"dataframe\">\n",
              "  <thead>\n",
              "    <tr style=\"text-align: right;\">\n",
              "      <th></th>\n",
              "      <th>ID</th>\n",
              "      <th>TITULO</th>\n",
              "      <th>INFOS</th>\n",
              "      <th>VALOR</th>\n",
              "      <th>LOCAL</th>\n",
              "      <th>DATA_ANUNCIO</th>\n",
              "      <th>LINK</th>\n",
              "    </tr>\n",
              "  </thead>\n",
              "  <tbody>\n",
              "    <tr>\n",
              "      <th>0</th>\n",
              "      <td>1041364469</td>\n",
              "      <td>Palio Fire 2014/2015 |</td>\n",
              "      <td>75.000 km  |</td>\n",
              "      <td>R$ 25.000</td>\n",
              "      <td>Feira de Santana -  BA</td>\n",
              "      <td>Hoje, 09:17</td>\n",
              "      <td>https://ba.olx.com.br/regiao-de-feira-de-santa...</td>\n",
              "    </tr>\n",
              "    <tr>\n",
              "      <th>1</th>\n",
              "      <td>1041364453</td>\n",
              "      <td>Honda Civic 2010 Lxs Automático</td>\n",
              "      <td>109.000 km  |  Câmbio: Automático  |  Flex  |</td>\n",
              "      <td>R$ 44.500</td>\n",
              "      <td>São José do Rio Preto -  SP</td>\n",
              "      <td>Hoje, 09:17</td>\n",
              "      <td>https://sp.olx.com.br/regiao-de-sao-jose-do-ri...</td>\n",
              "    </tr>\n",
              "    <tr>\n",
              "      <th>2</th>\n",
              "      <td>1041364444</td>\n",
              "      <td>Toyota Hilux 4x4 SW4 Gasolina 1997</td>\n",
              "      <td>200.000 km  |  Câmbio: Manual  |  Gasolina  |</td>\n",
              "      <td>R$ 42.000</td>\n",
              "      <td>São Sebastião da Amoreira -  PR</td>\n",
              "      <td>Hoje, 09:17</td>\n",
              "      <td>https://pr.olx.com.br/regiao-de-londrina/autos...</td>\n",
              "    </tr>\n",
              "    <tr>\n",
              "      <th>3</th>\n",
              "      <td>979399212</td>\n",
              "      <td>Vendo kombi corujinha 1973</td>\n",
              "      <td>1 km  |  Câmbio: Manual  |  Gasolina  |</td>\n",
              "      <td>R$ 17.500</td>\n",
              "      <td>Campo Grande -  MS</td>\n",
              "      <td>Hoje, 09:17</td>\n",
              "      <td>https://ms.olx.com.br/mato-grosso-do-sul/autos...</td>\n",
              "    </tr>\n",
              "    <tr>\n",
              "      <th>4</th>\n",
              "      <td>1041364397</td>\n",
              "      <td>Carro</td>\n",
              "      <td>97.000 km  |  Câmbio: Manual  |  Flex  |</td>\n",
              "      <td>R$ 48.000</td>\n",
              "      <td>Campo Bom -  RS</td>\n",
              "      <td>Hoje, 09:17</td>\n",
              "      <td>https://rs.olx.com.br/regioes-de-porto-alegre-...</td>\n",
              "    </tr>\n",
              "  </tbody>\n",
              "</table>\n",
              "</div>\n",
              "      <button class=\"colab-df-convert\" onclick=\"convertToInteractive('df-7b5af334-7975-4fd0-984c-28d9e2398580')\"\n",
              "              title=\"Convert this dataframe to an interactive table.\"\n",
              "              style=\"display:none;\">\n",
              "        \n",
              "  <svg xmlns=\"http://www.w3.org/2000/svg\" height=\"24px\"viewBox=\"0 0 24 24\"\n",
              "       width=\"24px\">\n",
              "    <path d=\"M0 0h24v24H0V0z\" fill=\"none\"/>\n",
              "    <path d=\"M18.56 5.44l.94 2.06.94-2.06 2.06-.94-2.06-.94-.94-2.06-.94 2.06-2.06.94zm-11 1L8.5 8.5l.94-2.06 2.06-.94-2.06-.94L8.5 2.5l-.94 2.06-2.06.94zm10 10l.94 2.06.94-2.06 2.06-.94-2.06-.94-.94-2.06-.94 2.06-2.06.94z\"/><path d=\"M17.41 7.96l-1.37-1.37c-.4-.4-.92-.59-1.43-.59-.52 0-1.04.2-1.43.59L10.3 9.45l-7.72 7.72c-.78.78-.78 2.05 0 2.83L4 21.41c.39.39.9.59 1.41.59.51 0 1.02-.2 1.41-.59l7.78-7.78 2.81-2.81c.8-.78.8-2.07 0-2.86zM5.41 20L4 18.59l7.72-7.72 1.47 1.35L5.41 20z\"/>\n",
              "  </svg>\n",
              "      </button>\n",
              "      \n",
              "  <style>\n",
              "    .colab-df-container {\n",
              "      display:flex;\n",
              "      flex-wrap:wrap;\n",
              "      gap: 12px;\n",
              "    }\n",
              "\n",
              "    .colab-df-convert {\n",
              "      background-color: #E8F0FE;\n",
              "      border: none;\n",
              "      border-radius: 50%;\n",
              "      cursor: pointer;\n",
              "      display: none;\n",
              "      fill: #1967D2;\n",
              "      height: 32px;\n",
              "      padding: 0 0 0 0;\n",
              "      width: 32px;\n",
              "    }\n",
              "\n",
              "    .colab-df-convert:hover {\n",
              "      background-color: #E2EBFA;\n",
              "      box-shadow: 0px 1px 2px rgba(60, 64, 67, 0.3), 0px 1px 3px 1px rgba(60, 64, 67, 0.15);\n",
              "      fill: #174EA6;\n",
              "    }\n",
              "\n",
              "    [theme=dark] .colab-df-convert {\n",
              "      background-color: #3B4455;\n",
              "      fill: #D2E3FC;\n",
              "    }\n",
              "\n",
              "    [theme=dark] .colab-df-convert:hover {\n",
              "      background-color: #434B5C;\n",
              "      box-shadow: 0px 1px 3px 1px rgba(0, 0, 0, 0.15);\n",
              "      filter: drop-shadow(0px 1px 2px rgba(0, 0, 0, 0.3));\n",
              "      fill: #FFFFFF;\n",
              "    }\n",
              "  </style>\n",
              "\n",
              "      <script>\n",
              "        const buttonEl =\n",
              "          document.querySelector('#df-7b5af334-7975-4fd0-984c-28d9e2398580 button.colab-df-convert');\n",
              "        buttonEl.style.display =\n",
              "          google.colab.kernel.accessAllowed ? 'block' : 'none';\n",
              "\n",
              "        async function convertToInteractive(key) {\n",
              "          const element = document.querySelector('#df-7b5af334-7975-4fd0-984c-28d9e2398580');\n",
              "          const dataTable =\n",
              "            await google.colab.kernel.invokeFunction('convertToInteractive',\n",
              "                                                     [key], {});\n",
              "          if (!dataTable) return;\n",
              "\n",
              "          const docLinkHtml = 'Like what you see? Visit the ' +\n",
              "            '<a target=\"_blank\" href=https://colab.research.google.com/notebooks/data_table.ipynb>data table notebook</a>'\n",
              "            + ' to learn more about interactive tables.';\n",
              "          element.innerHTML = '';\n",
              "          dataTable['output_type'] = 'display_data';\n",
              "          await google.colab.output.renderOutput(dataTable, element);\n",
              "          const docLink = document.createElement('div');\n",
              "          docLink.innerHTML = docLinkHtml;\n",
              "          element.appendChild(docLink);\n",
              "        }\n",
              "      </script>\n",
              "    </div>\n",
              "  </div>\n",
              "  "
            ]
          },
          "metadata": {},
          "execution_count": 63
        }
      ]
    },
    {
      "cell_type": "code",
      "source": [
        "# salvando os links no csv\n",
        "datahora = datetime.now().strftime('%Y%m%d%H%M')\n",
        "df.to_csv(f'metadados_olx_{datahora}.csv', index = False)"
      ],
      "metadata": {
        "id": "qo2z5Be1vbb8"
      },
      "execution_count": null,
      "outputs": []
    },
    {
      "cell_type": "markdown",
      "source": [
        "##AUTOMATIZANDO A COLETA DOS DADOS\n",
        "\n",
        "* Até o momento foi feito a coleta de **UMA** página.\n",
        "* Como temos várias páginas, é preciso automatizar essa tarefa para as demais páginas."
      ],
      "metadata": {
        "id": "iBXjCkdDwX_v"
      }
    },
    {
      "cell_type": "markdown",
      "source": [
        "###Fazer o Web scraping geral"
      ],
      "metadata": {
        "id": "FbZQDnjS80DO"
      }
    },
    {
      "cell_type": "code",
      "source": [
        "%%time\n",
        "## DATAFRAME FINAL COM OS DADOS\n",
        "df_metadados = pd.DataFrame()\n",
        "\n",
        "## DATA QUE A COLETA FOI REALIZADA. SERÁ UTILIZADA PARA TER UM CONTROLE DE TEMPO DOS DADOS \n",
        "data_coleta = datetime.now().date()\n",
        "\n",
        "print(f\"==== COLETA INICIADA ==== \")\n",
        "for pagina in range(1,5):\n",
        "  print(f\"{pagina}\",end=\" - \")\n",
        "\n",
        "  ## URL COM A PAGINAÇÃO (pagina)\n",
        "  url_inicial = f\"https://olx.com.br/autos-e-pecas/carros-vans-e-utilitarios?o={pagina}\"\n",
        "  pagina_inicial = requests.get(url_inicial, headers=headers)\n",
        "  print(pagina_inicial) # response 200 conexão OK, outros valores, houve algum problema\n",
        "\n",
        "  # CONVERTENDO PÁGINA BYTES PARA OBJETO BEAUTIFULSOUP(que irá ter todas as funções/métodos para fazer o scraping) \n",
        "  pagina_inicial = BeautifulSoup(pagina_inicial.content, 'html.parser')\n",
        "  \n",
        "  ## EXTRAINDO ID DO ANUNCIO\n",
        "  id = pagina_inicial.find_all(class_=\"sc-12rk7z2-1\")\n",
        "  ids = [x.get_attribute_list(\"data-lurker_list_id\")[0] for x in id]\n",
        "\n",
        "  ## EXTRAINDO LINK ANUNCIO\n",
        "  tags_links = pagina_inicial.find_all(name = \"a\", class_ = \"sc-12rk7z2-1\")\n",
        "  links = [ x.get_attribute_list(\"href\")[0] for x in tags_links]\n",
        "\n",
        "  ## EXTRAINDO TÍTULO ANUNCIO\n",
        "  titulo = pagina_inicial.find_all(class_=\"kgl1mq-0\")\n",
        "  titulo = [x.get_text() for x in titulo]\n",
        "\n",
        "  ## EXTRAINDO INFOS ANUNCIO\n",
        "  infos = pagina_inicial.find_all(class_=\"sc-1ftm7qz-2\")\n",
        "  infos = [x.get_text() for x in infos]\n",
        "\n",
        "  ## EXTRAINDO VALOR ANUNCIO\n",
        "  valor = pagina_inicial.find_all(class_=\"m7nrfa-0\")\n",
        "  valor = [x.get_text() for x in valor]\n",
        "\n",
        "  ## EXTRAINDO LOCALIZAÇÃO ANUNCIO\n",
        "  local = pagina_inicial.find_all(class_=\"sc-1c3ysll-1\")\n",
        "  local = [x.get_text() for x in local]\n",
        "\n",
        "  ## EXTRAINDO DATA ANUNCIO\n",
        "  data = pagina_inicial.find_all(class_=\"sc-11h4wdr-0\")\n",
        "  data = [x.get_text() for x in data]\n",
        "\n",
        "  ## VERIFICANDO A QUANTIDADE DE ELEMENTOS PARA CADA VARIÁVEIS\n",
        "  print(len(ids), len(links),len(titulo), len(infos), len(valor), len(local), len(data))\n",
        "\n",
        "  ## CRIANDO DATAFRAME TEMPORÁRIO PARA ARMAZENADOS OS DADOS\n",
        "  df = pd.DataFrame( list(zip(ids,titulo,infos,valor,local,data,links)),\n",
        "                    columns = [\"ID\",\"TITULO\",\"INFOS\",\"VALOR\",\"LOCAL\",\"DATA_ANUNCIO\",\"LINK\"] )\n",
        "  \n",
        "  ## CONDIÇÃO PARA VERIFICAR SE DADOS FORAM COLETADOS\n",
        "  if len(df) > 0:\n",
        "    #inserindo no DF a data de coleta\n",
        "    df.loc[:,'DATA_COLETA_METADADOS'] = data_coleta \n",
        "\n",
        "    ## CONCATENANDO DADOS COLETADOS NO DATAFRAME FINAL(df_metadado)\n",
        "    df_metadados = pd.concat([df_metadados,df])\n",
        "\n",
        "    print(\"salvando\\n\")\n",
        "    dataHora = datetime.now().strftime('%Y%m%d%H%M')\n",
        "\n",
        "    ## SALVANDO DF LINKS\n",
        "    df_metadados.to_csv(f\"metadados_olx_carros_{dataHora}.csv\",index=False)\n",
        "\n",
        "    ## TIME PARA GERAR TEMPO DE \"ESPERA\" ANTES DE REALIZAR OUTRA REQUISIÇÃO\n",
        "    # PROCEDIMENTO REALIZADO PARA NÃO SOBRECARREGAR O SERVIDOR\n",
        "    time.sleep(random.randint(1,5))\n",
        "\n",
        "print(f\"==== COLETA FINALIZADA ==== \")\n"
      ],
      "metadata": {
        "colab": {
          "base_uri": "https://localhost:8080/"
        },
        "id": "8RqdRpJ4wb7o",
        "outputId": "170e94f6-229f-4ef0-aa95-08cb0372fc3a"
      },
      "execution_count": null,
      "outputs": [
        {
          "output_type": "stream",
          "name": "stdout",
          "text": [
            "==== COLETA INICIADA ==== \n",
            "1 - <Response [200]>\n",
            "50 50 50 50 50 50 50\n",
            "salvando\n",
            "\n",
            "2 - <Response [200]>\n",
            "50 50 50 50 50 50 50\n",
            "salvando\n",
            "\n",
            "3 - <Response [200]>\n",
            "50 50 50 50 50 50 50\n",
            "salvando\n",
            "\n",
            "4 - <Response [200]>\n",
            "50 50 50 50 50 50 50\n",
            "salvando\n",
            "\n",
            "==== COLETA FINALIZADA ==== \n",
            "CPU times: user 2.12 s, sys: 43.2 ms, total: 2.17 s\n",
            "Wall time: 18.4 s\n"
          ]
        }
      ]
    },
    {
      "cell_type": "markdown",
      "source": [
        "###Fazer o Web scraping por Estado do Brasil"
      ],
      "metadata": {
        "id": "COvlNg-R85ke"
      }
    },
    {
      "cell_type": "code",
      "source": [
        "%%time\n",
        "## DATAFRAME FINAL COM OS DADOS\n",
        "df_metadados = pd.DataFrame()\n",
        "\n",
        "## DATA QUE A COLETA FOI REALIZADA. SERÁ UTILIZADA PARA TER UM CONTROLE DE TEMPO DOS DADOS \n",
        "data_coleta = datetime.now().date()\n",
        "\n",
        "print(f\"==== COLETA INICIADA ==== \")\n",
        "\n",
        "uf = ['ac', 'al', 'ap', 'am', 'ba', 'ce', 'df', 'es', 'go', 'ma', 'mt', 'ms', 'mg', 'pa',\n",
        "      'pb', 'pr', 'pe', 'pi', 'rj', 'rn', 'rs', 'ro', 'rr', 'sc', 'sp', 'se', 'to']\n",
        "\n",
        "for x in uf:\n",
        "  print(f\"Realizando coletas do UF {x}:\")\n",
        "  for pagina in range(1,5):\n",
        "    print(f\"{pagina}\",end=\" - \")\n",
        "\n",
        "    ## URL COM A PAGINAÇÃO (pagina)\n",
        "    url_inicial = f\"https://{x}.olx.com.br/autos-e-pecas/carros-vans-e-utilitarios?o={pagina}\"\n",
        "    pagina_inicial = requests.get(url_inicial, headers=headers)\n",
        "    print(pagina_inicial) # response 200 conexão OK, outros valores, houve algum problema\n",
        "\n",
        "    # CONVERTENDO PÁGINA BYTES PARA OBJETO BEAUTIFULSOUP(que irá ter todas as funções/métodos para fazer o scraping) \n",
        "    pagina_inicial = BeautifulSoup(pagina_inicial.content, 'html.parser')\n",
        "    \n",
        "    ## EXTRAINDO ID DO ANUNCIO\n",
        "    id = pagina_inicial.find_all(class_=\"sc-12rk7z2-1\")\n",
        "    ids = [x.get_attribute_list(\"data-lurker_list_id\")[0] for x in id]\n",
        "\n",
        "    ## EXTRAINDO LINK ANUNCIO\n",
        "    tags_links = pagina_inicial.find_all(name = \"a\", class_ = \"sc-12rk7z2-1\")\n",
        "    links = [ x.get_attribute_list(\"href\")[0] for x in tags_links]\n",
        "\n",
        "    ## EXTRAINDO TÍTULO ANUNCIO\n",
        "    titulo = pagina_inicial.find_all(class_=\"kgl1mq-0\")\n",
        "    titulo = [x.get_text() for x in titulo]\n",
        "\n",
        "    ## EXTRAINDO INFOS ANUNCIO\n",
        "    infos = pagina_inicial.find_all(class_=\"sc-1ftm7qz-2\")\n",
        "    infos = [x.get_text() for x in infos]\n",
        "\n",
        "    ## EXTRAINDO VALOR ANUNCIO\n",
        "    valor = pagina_inicial.find_all(class_=\"m7nrfa-0\")\n",
        "    valor = [x.get_text() for x in valor]\n",
        "\n",
        "    ## EXTRAINDO LOCALIZAÇÃO ANUNCIO\n",
        "    local = pagina_inicial.find_all(class_=\"sc-1c3ysll-1\")\n",
        "    local = [x.get_text() for x in local]\n",
        "\n",
        "    ## EXTRAINDO DATA ANUNCIO\n",
        "    data = pagina_inicial.find_all(class_=\"sc-11h4wdr-0\")\n",
        "    data = [x.get_text() for x in data]\n",
        "\n",
        "    ## VERIFICANDO A QUANTIDADE DE ELEMENTOS PARA CADA VARIÁVEIS\n",
        "    print(len(ids), len(links),len(titulo), len(infos), len(valor), len(local), len(data))\n",
        "\n",
        "    ## CRIANDO DATAFRAME TEMPORÁRIO PARA ARMAZENADOS OS DADOS\n",
        "    df = pd.DataFrame( list(zip(ids,titulo,infos,valor,local,data,links)),\n",
        "                      columns = [\"ID\",\"TITULO\",\"INFOS\",\"VALOR\",\"LOCAL\",\"DATA_ANUNCIO\",\"LINK\"] )\n",
        "    \n",
        "    ## CONDIÇÃO PARA VERIFICAR SE DADOS FORAM COLETADOS\n",
        "    if len(df) > 0:\n",
        "      #inserindo no DF a data de coleta\n",
        "      df.loc[:,'DATA_COLETA_METADADOS'] = data_coleta \n",
        "\n",
        "      ## CONCATENANDO DADOS COLETADOS NO DATAFRAME FINAL(df_metadado)\n",
        "      df_metadados = pd.concat([df_metadados,df])\n",
        "\n",
        "      print(\"salvando\\n\")\n",
        "      dataHora = datetime.now().strftime('%Y%m%d%H%M')\n",
        "\n",
        "      ## SALVANDO OS LINKS\n",
        "      #df_metadados.to_csv(f\"metadados_olx_carros_{dataHora}.csv\",index=False)\n",
        "\n",
        "      ## TIME PARA GERAR TEMPO DE \"ESPERA\" ANTES DE REALIZAR OUTRA REQUISIÇÃO\n",
        "      # PROCEDIMENTO REALIZADO PARA NÃO SOBRECARREGAR O SERVIDOR\n",
        "      time.sleep(random.randint(1,5))\n",
        "  #SALVANDO OS LINKS\n",
        "  df_metadados.to_csv(f\"{x}_metadados.csv\",index=False)\n",
        "print(f\"==== COLETA FINALIZADA ==== \")\n"
      ],
      "metadata": {
        "id": "ehl3tN0SvUCo"
      },
      "execution_count": null,
      "outputs": []
    }
  ]
}